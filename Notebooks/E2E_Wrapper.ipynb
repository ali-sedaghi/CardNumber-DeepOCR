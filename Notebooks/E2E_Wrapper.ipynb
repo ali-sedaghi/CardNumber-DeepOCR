{
  "nbformat": 4,
  "nbformat_minor": 0,
  "metadata": {
    "colab": {
      "name": "E2E_Wrapper.ipynb",
      "provenance": [],
      "collapsed_sections": []
    },
    "kernelspec": {
      "name": "python3",
      "display_name": "Python 3"
    },
    "language_info": {
      "name": "python"
    }
  },
  "cells": [
    {
      "cell_type": "markdown",
      "source": [
        "# Imports"
      ],
      "metadata": {
        "id": "3RTb1EZLzyNc"
      }
    },
    {
      "cell_type": "code",
      "source": [
        "import os\n",
        "import numpy as np\n",
        "from pathlib import Path\n",
        "import matplotlib.pyplot as plt\n",
        "\n",
        "import tensorflow as tf\n",
        "import keras.backend as K\n",
        "\n",
        "from tensorflow.keras.models import Model, load_model\n",
        "from tensorflow.keras.layers import Layer, StringLookup"
      ],
      "metadata": {
        "id": "i7zG-mdhRLYg"
      },
      "execution_count": 20,
      "outputs": []
    },
    {
      "cell_type": "markdown",
      "source": [
        "# Setups"
      ],
      "metadata": {
        "id": "CbPPTeepz0Tw"
      }
    },
    {
      "cell_type": "code",
      "source": [
        "CHARS = ['0', '1', '2', '3', '4', '5', '6', '7', '8', '9']\n",
        "WIDTH = 200\n",
        "HEIGHT = 50"
      ],
      "metadata": {
        "id": "ssfR7RmsTYpJ"
      },
      "execution_count": 21,
      "outputs": []
    },
    {
      "cell_type": "code",
      "source": [
        "# Mapping characters to integers\n",
        "char_to_num = StringLookup(vocabulary=CHARS)\n",
        "\n",
        "# Mapping integers back to original characters\n",
        "num_to_char = StringLookup(\n",
        "    vocabulary=char_to_num.get_vocabulary(),\n",
        "    invert=True,\n",
        ")"
      ],
      "metadata": {
        "id": "mAWsKhvNTE7X"
      },
      "execution_count": 22,
      "outputs": []
    },
    {
      "cell_type": "markdown",
      "source": [
        "# Utility Functions"
      ],
      "metadata": {
        "id": "V8ACmDZdz2-6"
      }
    },
    {
      "cell_type": "code",
      "source": [
        "class CTCLayer(Layer):\n",
        "    def __init__(self, name=None, **kwargs):\n",
        "        super().__init__(name=name, **kwargs)\n",
        "        self.loss_fn = K.ctc_batch_cost\n",
        "\n",
        "    def call(self, y_true, y_pred):\n",
        "        # Compute the training-time loss value and add it\n",
        "        # to the layer using `self.add_loss()`.\n",
        "        batch_len = tf.cast(tf.shape(y_true)[0], dtype=\"int64\")\n",
        "        input_length = tf.cast(tf.shape(y_pred)[1], dtype=\"int64\")\n",
        "        label_length = tf.cast(tf.shape(y_true)[1], dtype=\"int64\")\n",
        "\n",
        "        input_length = input_length * tf.ones(shape=(batch_len, 1), dtype=\"int64\")\n",
        "        label_length = label_length * tf.ones(shape=(batch_len, 1), dtype=\"int64\")\n",
        "\n",
        "        loss = self.loss_fn(y_true, y_pred, input_length, label_length)\n",
        "        self.add_loss(loss)\n",
        "\n",
        "        # At test time, just return the computed predictions\n",
        "        return y_pred"
      ],
      "metadata": {
        "id": "N8y1r-udST_m"
      },
      "execution_count": 23,
      "outputs": []
    },
    {
      "cell_type": "code",
      "source": [
        "def read_dataset(directory):\n",
        "    data_dir = Path(directory)\n",
        "    images = sorted(list(map(str, list(data_dir.glob(\"*.jpg\")))))\n",
        "    labels = [img.split(os.path.sep)[-1].split(\".jpg\")[0] for img in images]\n",
        "    return images, labels"
      ],
      "metadata": {
        "id": "N8UhLUMqR0Ey"
      },
      "execution_count": 24,
      "outputs": []
    },
    {
      "cell_type": "code",
      "source": [
        "def preprocess_image(img_path, to_gray):\n",
        "    img = tf.io.read_file(img_path)\n",
        "    if to_gray:\n",
        "        img = tf.io.decode_png(img, channels=1)\n",
        "    else:\n",
        "        img = tf.io.decode_png(img, channels=3)\n",
        "    img = tf.image.convert_image_dtype(img, tf.float32)\n",
        "    img = tf.image.resize(img, [HEIGHT, WIDTH])\n",
        "    if to_gray:\n",
        "        img = tf.transpose(img, perm=[1, 0, 2])\n",
        "    return img"
      ],
      "metadata": {
        "id": "4crEv_9aR2Pa"
      },
      "execution_count": 25,
      "outputs": []
    },
    {
      "cell_type": "code",
      "source": [
        "# Get the prediction model by extracting layers till the output layer\n",
        "def get_predictor_models(model_path):\n",
        "    model = load_model(\n",
        "        model_path,\n",
        "        custom_objects={'CTCLayer': CTCLayer}\n",
        "    )\n",
        "\n",
        "    predictor_model = Model(\n",
        "        model.get_layer(name=\"image\").input,\n",
        "        model.get_layer(name=\"Dense2\").output\n",
        "    )\n",
        "\n",
        "    return predictor_model"
      ],
      "metadata": {
        "id": "yJW0FfxESju3"
      },
      "execution_count": 26,
      "outputs": []
    },
    {
      "cell_type": "code",
      "source": [
        "# A utility function to decode the output of the network\n",
        "def decode_batch_predictions(pred, max_length):\n",
        "    input_len = np.ones(pred.shape[0]) * pred.shape[1]\n",
        "    \n",
        "    # Use greedy search. For complex tasks, you can use beam search\n",
        "    results = K.ctc_decode(\n",
        "        pred,\n",
        "        input_length=input_len,\n",
        "        greedy=True\n",
        "    )[0][0][:, :max_length]\n",
        "\n",
        "    # Iterate over the results and get back the text\n",
        "    output_text = []\n",
        "    for res in results:\n",
        "        res = tf.strings.reduce_join(num_to_char(res)).numpy().decode(\"utf-8\")\n",
        "        res = res.replace('[UNK]', 'x')\n",
        "        output_text.append(res)\n",
        "    return output_text"
      ],
      "metadata": {
        "id": "5apQ30vkSNs3"
      },
      "execution_count": 27,
      "outputs": []
    },
    {
      "cell_type": "code",
      "source": [
        "def predict_single_path(path, label=None):\n",
        "    img = preprocess_image(path, to_gray=False)\n",
        "    img_batch = np.expand_dims(img, axis=0)\n",
        "\n",
        "    img_class = cls_model.predict(img_batch)\n",
        "    img_class = np.argmax(img_class)\n",
        "\n",
        "    img = preprocess_image(path, to_gray=True)\n",
        "    img_batch = np.expand_dims(img, axis=0)\n",
        "\n",
        "    if label:\n",
        "        if len(label) == 10:\n",
        "                img_class = 1\n",
        "        else:\n",
        "                img_class = 0\n",
        "\n",
        "    # National card\n",
        "    if img_class == 1:\n",
        "        pred_class = 'National'\n",
        "        pred = nat_model.predict(img_batch)\n",
        "        pred_text = decode_batch_predictions(pred, 10)\n",
        "        \n",
        "    # Credit card\n",
        "    else:\n",
        "        pred_class = 'Credit'\n",
        "        pred = cred_model.predict(img_batch)\n",
        "        pred_text = decode_batch_predictions(pred, 16)\n",
        "\n",
        "    return pred_class, pred_text[0]"
      ],
      "metadata": {
        "id": "d5x4YGftR4m-"
      },
      "execution_count": 28,
      "outputs": []
    },
    {
      "cell_type": "code",
      "source": [
        "def single_file_show(path, label):\n",
        "    from PIL import Image\n",
        "    img_raw = np.asarray(Image.open(path))\n",
        "    plt.imshow(img_raw)\n",
        "    plt.axis(\"off\")\n",
        "    plt.show()\n",
        "\n",
        "    pred_class, pred_label = predict_single_path(path, label)\n",
        "    print(f'Pred Class: {pred_class}')\n",
        "    print(f'Pred Label: {pred_label}')\n",
        "    print(f'True Label: {label}')"
      ],
      "metadata": {
        "id": "DwscUQ5iR6zu"
      },
      "execution_count": 29,
      "outputs": []
    },
    {
      "cell_type": "code",
      "source": [
        "def predict_folder(folder_path):\n",
        "    images, labels = read_dataset(folder_path)\n",
        "    batch_size = len(images)\n",
        "\n",
        "    total_digits = 0\n",
        "    wrong_digits = 0\n",
        "\n",
        "    for i in range(batch_size):\n",
        "        path = images[i]\n",
        "        label = labels[i]\n",
        "        label_len = len(label)\n",
        "\n",
        "        pred_class, pred_label = predict_single_path(path, label)\n",
        "\n",
        "        if label_len == 10:\n",
        "            true_class = 'National'\n",
        "        else:\n",
        "            true_class = 'Credit'\n",
        "\n",
        "        total_digits += label_len\n",
        "        if true_class != pred_class:\n",
        "            wrong_digits += label_len\n",
        "        else:\n",
        "            for j in range(label_len):\n",
        "                if label[j] != pred_label[j]:\n",
        "                    wrong_digits += 1\n",
        "\n",
        "        print(f'Pred Class: {pred_class}')\n",
        "        print(f'Pred Label: {pred_label}')\n",
        "        print(f'True Label: {label}')\n",
        "        print('-----------------------')\n",
        "\n",
        "    print(f'Accuracy: {(total_digits - wrong_digits) / total_digits}')"
      ],
      "metadata": {
        "id": "fa6OPx1CR-De"
      },
      "execution_count": 30,
      "outputs": []
    },
    {
      "cell_type": "markdown",
      "source": [
        "# Download model and test sets"
      ],
      "metadata": {
        "id": "zepqbYzHz7St"
      }
    },
    {
      "cell_type": "code",
      "execution_count": 31,
      "metadata": {
        "colab": {
          "base_uri": "https://localhost:8080/"
        },
        "id": "gv0ukX5QQrHy",
        "outputId": "b7fd91d5-1089-441b-a53b-c7ed55055cf1"
      },
      "outputs": [
        {
          "output_type": "stream",
          "name": "stdout",
          "text": [
            "Downloading...\n",
            "From: https://drive.google.com/uc?id=1rnqjpz8MJb4PbDWY9biFVuPeCtce3PVN\n",
            "To: /content/classifier_model.hdf5\n",
            "100% 7.16M/7.16M [00:00<00:00, 33.2MB/s]\n",
            "Downloading...\n",
            "From: https://drive.google.com/uc?id=1zaOuXFbm5xMrgrR-ML54JRTM_zg-UkgH\n",
            "To: /content/credit_model.hdf5\n",
            "100% 5.31M/5.31M [00:00<00:00, 72.1MB/s]\n",
            "Downloading...\n",
            "From: https://drive.google.com/uc?id=1I5Z-MItxv15ajZehBKEzD2HJ0beIZUqt\n",
            "To: /content/national_model.hdf5\n",
            "100% 5.31M/5.31M [00:00<00:00, 75.6MB/s]\n"
          ]
        }
      ],
      "source": [
        "!gdown --id 1rnqjpz8MJb4PbDWY9biFVuPeCtce3PVN\n",
        "classifier_path = './classifier_model.hdf5'\n",
        "\n",
        "!gdown --id 1zaOuXFbm5xMrgrR-ML54JRTM_zg-UkgH\n",
        "credit_model_path = './credit_model.hdf5'\n",
        "\n",
        "!gdown --id 1I5Z-MItxv15ajZehBKEzD2HJ0beIZUqt\n",
        "national_model_path = 'national_model.hdf5'"
      ]
    },
    {
      "cell_type": "code",
      "source": [
        "# Fake Tests\n",
        "!gdown --id 1K82kQG5Vkj987Mo6AXMl36BRh9-GGoIK\n",
        "!unzip -qq -n tests_fake.zip\n",
        "!rm tests_fake.zip"
      ],
      "metadata": {
        "colab": {
          "base_uri": "https://localhost:8080/"
        },
        "id": "jWQ_SxedRj6E",
        "outputId": "1994fe1a-2d5b-4e1e-f8f7-267fff6dade3"
      },
      "execution_count": 32,
      "outputs": [
        {
          "output_type": "stream",
          "name": "stdout",
          "text": [
            "Downloading...\n",
            "From: https://drive.google.com/uc?id=1K82kQG5Vkj987Mo6AXMl36BRh9-GGoIK\n",
            "To: /content/tests_fake.zip\n",
            "\r  0% 0.00/203k [00:00<?, ?B/s]\r100% 203k/203k [00:00<00:00, 44.6MB/s]\n"
          ]
        }
      ]
    },
    {
      "cell_type": "code",
      "source": [
        "# Real Tests\n",
        "!gdown --id 1KfKRWFktOjwkPnKwBg2gxTcoh3DImN2c\n",
        "!unzip -qq -n tests_real.zip\n",
        "!rm tests_real.zip"
      ],
      "metadata": {
        "colab": {
          "base_uri": "https://localhost:8080/"
        },
        "id": "XQua41z6zOWK",
        "outputId": "11b427c6-2754-41e4-92f0-d61726d92839"
      },
      "execution_count": 33,
      "outputs": [
        {
          "output_type": "stream",
          "name": "stdout",
          "text": [
            "Downloading...\n",
            "From: https://drive.google.com/uc?id=1KfKRWFktOjwkPnKwBg2gxTcoh3DImN2c\n",
            "To: /content/tests_real.zip\n",
            "\r  0% 0.00/82.6k [00:00<?, ?B/s]\r100% 82.6k/82.6k [00:00<00:00, 83.2MB/s]\n"
          ]
        }
      ]
    },
    {
      "cell_type": "markdown",
      "source": [
        "# Evaluating"
      ],
      "metadata": {
        "id": "v06nDrsL0CUg"
      }
    },
    {
      "cell_type": "code",
      "source": [
        "cls_model = load_model(classifier_path)\n",
        "cred_model = get_predictor_models(credit_model_path)\n",
        "nat_model = get_predictor_models(national_model_path)"
      ],
      "metadata": {
        "id": "Iq2u0jzDRnI7"
      },
      "execution_count": 34,
      "outputs": []
    },
    {
      "cell_type": "code",
      "source": [
        "folder_path = 'tests_fake'\n",
        "predict_folder(folder_path)"
      ],
      "metadata": {
        "colab": {
          "base_uri": "https://localhost:8080/"
        },
        "id": "NJMkKRbIRA0f",
        "outputId": "18e5967f-b7e2-45da-86e6-3ba7c9461652"
      },
      "execution_count": 35,
      "outputs": [
        {
          "output_type": "stream",
          "name": "stdout",
          "text": [
            "Pred Class: Credit\n",
            "Pred Label: 0280794529230760\n",
            "True Label: 0380794529239760\n",
            "-----------------------\n",
            "Pred Class: Credit\n",
            "Pred Label: 0670025439496922\n",
            "True Label: 0670025439496922\n",
            "-----------------------\n",
            "Pred Class: Credit\n",
            "Pred Label: 073688064400678x\n",
            "True Label: 0736560613000678\n",
            "-----------------------\n",
            "Pred Class: National\n",
            "Pred Label: 1077705983\n",
            "True Label: 1077705983\n",
            "-----------------------\n",
            "Pred Class: Credit\n",
            "Pred Label: 1486784975304333\n",
            "True Label: 1486784975304333\n",
            "-----------------------\n",
            "Pred Class: National\n",
            "Pred Label: 2273123026\n",
            "True Label: 2273123026\n",
            "-----------------------\n",
            "Pred Class: National\n",
            "Pred Label: 2406761144\n",
            "True Label: 2406761144\n",
            "-----------------------\n",
            "Pred Class: National\n",
            "Pred Label: 2466197563\n",
            "True Label: 2466197563\n",
            "-----------------------\n",
            "Pred Class: National\n",
            "Pred Label: 2566160658\n",
            "True Label: 2566160658\n",
            "-----------------------\n",
            "Pred Class: Credit\n",
            "Pred Label: 3425396164914365\n",
            "True Label: 3425396164914365\n",
            "-----------------------\n",
            "Pred Class: Credit\n",
            "Pred Label: 3674757014475560\n",
            "True Label: 3674757014475560\n",
            "-----------------------\n",
            "Pred Class: Credit\n",
            "Pred Label: 3774639132620183\n",
            "True Label: 3774639132620183\n",
            "-----------------------\n",
            "Pred Class: Credit\n",
            "Pred Label: 3858308402489868\n",
            "True Label: 3858308402489868\n",
            "-----------------------\n",
            "Pred Class: Credit\n",
            "Pred Label: 4229587854764037\n",
            "True Label: 4229587854764037\n",
            "-----------------------\n",
            "Pred Class: National\n",
            "Pred Label: 4353048980\n",
            "True Label: 4353048980\n",
            "-----------------------\n",
            "Pred Class: National\n",
            "Pred Label: 4543119996\n",
            "True Label: 4543119996\n",
            "-----------------------\n",
            "Pred Class: National\n",
            "Pred Label: 5219842784\n",
            "True Label: 5219842784\n",
            "-----------------------\n",
            "Pred Class: National\n",
            "Pred Label: 5526205389\n",
            "True Label: 5526205389\n",
            "-----------------------\n",
            "Pred Class: National\n",
            "Pred Label: 5616706865\n",
            "True Label: 5616706865\n",
            "-----------------------\n",
            "Pred Class: Credit\n",
            "Pred Label: 775356398094169x\n",
            "True Label: 5753563940941169\n",
            "-----------------------\n",
            "Pred Class: National\n",
            "Pred Label: 6320670120\n",
            "True Label: 6320670120\n",
            "-----------------------\n",
            "Pred Class: National\n",
            "Pred Label: 6322509461\n",
            "True Label: 6322509461\n",
            "-----------------------\n",
            "Pred Class: National\n",
            "Pred Label: 6363558945\n",
            "True Label: 6363558945\n",
            "-----------------------\n",
            "Pred Class: Credit\n",
            "Pred Label: 6369500808618131\n",
            "True Label: 6369500808618131\n",
            "-----------------------\n",
            "Pred Class: Credit\n",
            "Pred Label: 6790566485617194\n",
            "True Label: 6790566485617194\n",
            "-----------------------\n",
            "Pred Class: National\n",
            "Pred Label: 6830208725\n",
            "True Label: 6830208725\n",
            "-----------------------\n",
            "Pred Class: National\n",
            "Pred Label: 6902762130\n",
            "True Label: 6902762130\n",
            "-----------------------\n",
            "Pred Class: National\n",
            "Pred Label: 7080410704\n",
            "True Label: 7080410704\n",
            "-----------------------\n",
            "Pred Class: Credit\n",
            "Pred Label: 7013592936237325\n",
            "True Label: 7713598536237320\n",
            "-----------------------\n",
            "Pred Class: Credit\n",
            "Pred Label: 8044177130751602\n",
            "True Label: 8044177130751602\n",
            "-----------------------\n",
            "Pred Class: National\n",
            "Pred Label: 8082640842\n",
            "True Label: 8082640842\n",
            "-----------------------\n",
            "Pred Class: Credit\n",
            "Pred Label: 8189156245769044\n",
            "True Label: 8189156245769044\n",
            "-----------------------\n",
            "Pred Class: Credit\n",
            "Pred Label: 8191580003779540\n",
            "True Label: 8191580003779540\n",
            "-----------------------\n",
            "Pred Class: Credit\n",
            "Pred Label: 8243124677436246\n",
            "True Label: 8243124677436246\n",
            "-----------------------\n",
            "Pred Class: Credit\n",
            "Pred Label: 8248717870906920\n",
            "True Label: 8248717870906920\n",
            "-----------------------\n",
            "Pred Class: Credit\n",
            "Pred Label: 9019444953108049\n",
            "True Label: 9019444953108049\n",
            "-----------------------\n",
            "Pred Class: National\n",
            "Pred Label: 9128028969\n",
            "True Label: 9128028969\n",
            "-----------------------\n",
            "Pred Class: National\n",
            "Pred Label: 9138543537\n",
            "True Label: 9138543537\n",
            "-----------------------\n",
            "Pred Class: National\n",
            "Pred Label: 9146107909\n",
            "True Label: 9146107909\n",
            "-----------------------\n",
            "Pred Class: Credit\n",
            "Pred Label: 9297969938868200\n",
            "True Label: 9297969938868200\n",
            "-----------------------\n",
            "Accuracy: 0.9634615384615385\n"
          ]
        }
      ]
    },
    {
      "cell_type": "code",
      "source": [
        "folder_path = 'tests_real'\n",
        "predict_folder(folder_path)"
      ],
      "metadata": {
        "colab": {
          "base_uri": "https://localhost:8080/"
        },
        "id": "EqXLn5OGRCnD",
        "outputId": "dc24e231-4094-4a12-d546-f348e7adc716"
      },
      "execution_count": 36,
      "outputs": [
        {
          "output_type": "stream",
          "name": "stdout",
          "text": [
            "Pred Class: National\n",
            "Pred Label: 0006165591\n",
            "True Label: 0006165591\n",
            "-----------------------\n",
            "Pred Class: National\n",
            "Pred Label: 0006657184\n",
            "True Label: 0006657184\n",
            "-----------------------\n",
            "Pred Class: National\n",
            "Pred Label: 0022785418\n",
            "True Label: 0022785418\n",
            "-----------------------\n",
            "Pred Class: National\n",
            "Pred Label: 6161266621\n",
            "True Label: 0067062571\n",
            "-----------------------\n",
            "Pred Class: National\n",
            "Pred Label: 1234567890\n",
            "True Label: 1234567890\n",
            "-----------------------\n",
            "Pred Class: Credit\n",
            "Pred Label: 6556612292212225\n",
            "True Label: 6037991165316294\n",
            "-----------------------\n",
            "Pred Class: Credit\n",
            "Pred Label: 4217822208656278\n",
            "True Label: 6037993249885617\n",
            "-----------------------\n",
            "Pred Class: Credit\n",
            "Pred Label: 546923794256651x\n",
            "True Label: 6104337018560571\n",
            "-----------------------\n",
            "Pred Class: Credit\n",
            "Pred Label: 7622146106984365\n",
            "True Label: 6221061069843656\n",
            "-----------------------\n",
            "Accuracy: 0.47368421052631576\n"
          ]
        }
      ]
    },
    {
      "cell_type": "code",
      "source": [
        "path = 'tests_fake/0380794529239760.jpg'\n",
        "label = '0380794529239760'\n",
        "single_file_show(path, label)"
      ],
      "metadata": {
        "colab": {
          "base_uri": "https://localhost:8080/",
          "height": 130
        },
        "id": "WgIIM2BaREhH",
        "outputId": "68fbb28e-1372-42f1-80aa-2f28881e8c49"
      },
      "execution_count": 37,
      "outputs": [
        {
          "output_type": "display_data",
          "data": {
            "image/png": "[encoded data removed]",
            "text/plain": [
              "<Figure size 432x288 with 1 Axes>"
            ]
          },
          "metadata": {
            "needs_background": "light"
          }
        },
        {
          "output_type": "stream",
          "name": "stdout",
          "text": [
            "Pred Class: Credit\n",
            "Pred Label: 0280794529230760\n",
            "True Label: 0380794529239760\n"
          ]
        }
      ]
    },
    {
      "cell_type": "code",
      "source": [
        ""
      ],
      "metadata": {
        "id": "uCnVRzpH21K0"
      },
      "execution_count": 37,
      "outputs": []
    }
  ]
}